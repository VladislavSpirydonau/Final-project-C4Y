{
 "cells": [
  {
   "cell_type": "code",
   "execution_count": 1,
   "metadata": {},
   "outputs": [],
   "source": [
    "import sqlite3\n",
    "import pandas as pd\n",
    "from src import paths,sql_querys,converting, pipelines, square_sum, split\n",
    "import joblib\n",
    "from sklearn.metrics import accuracy_score, recall_score"
   ]
  },
  {
   "cell_type": "code",
   "execution_count": 2,
   "metadata": {},
   "outputs": [],
   "source": [
    "conn = sqlite3.connect(paths.db_path)\n",
    "cursor = conn.cursor()\n",
    "query = sql_querys.query_training_model\n",
    "df = pd.read_sql_query(query, conn)\n",
    "df.max_balance = pd.to_numeric(df.max_balance)\n",
    "df.age=pd.to_numeric(df.age)\n",
    "df = converting.converter(df)"
   ]
  },
  {
   "cell_type": "code",
   "execution_count": 4,
   "metadata": {},
   "outputs": [],
   "source": [
    "\n",
    "age_pipeline = joblib.load(paths.age_pipeline_path)\n",
    "missing_age_indices = df['age'].isnull()\n",
    "predicted_ages = age_pipeline.predict(df[missing_age_indices])\n",
    "\n",
    "df.loc[missing_age_indices, 'age'] = predicted_ages"
   ]
  },
  {
   "cell_type": "code",
   "execution_count": 5,
   "metadata": {},
   "outputs": [],
   "source": [
    "query1 = (sql_querys.query_square_sum_train)\n",
    "df = square_sum.square_sum(df,query1,conn)\n"
   ]
  },
  {
   "cell_type": "code",
   "execution_count": null,
   "metadata": {},
   "outputs": [],
   "source": [
    "target_column = 'poutcome'\n",
    "X_train, X_test, y_train, y_test = split.split(df, target_column)\n",
    "\n",
    "\n",
    "num_features = ['age', 'balance_diff_square_sum', 'max_balance']\n",
    "labeled_features = ['has_deposits', 'loan', 'has_mortgage','education' ]\n",
    "RFC_params = {'random_state':42, 'n_estimators': 150, 'min_samples_split': 10,\n",
    "                                            'min_samples_leaf':2, 'max_features': 'sqrt', 'max_depth': 10, 'criterion':'entropy', 'bootstrap': False}\n",
    "\n",
    "pipeline = pipelines.main_pipeline(num_features,labeled_features,RFC_params)"
   ]
  },
  {
   "cell_type": "code",
   "execution_count": 9,
   "metadata": {},
   "outputs": [
    {
     "name": "stdout",
     "output_type": "stream",
     "text": [
      "Accuracy: 72.17% Recall: 76.26%\n"
     ]
    }
   ],
   "source": [
    "pipeline.fit(X_train, y_train)\n",
    "y_pred = pipeline.predict(X_test)\n",
    "accuracy = accuracy_score(y_test, y_pred)\n",
    "recall = recall_score(y_test, y_pred)\n",
    "print(\"Accuracy: {:.2f}%\".format(accuracy * 100), \"Recall: {:.2f}%\".format(recall * 100))"
   ]
  }
 ],
 "metadata": {
  "kernelspec": {
   "display_name": "tf-gpu",
   "language": "python",
   "name": "python3"
  },
  "language_info": {
   "codemirror_mode": {
    "name": "ipython",
    "version": 3
   },
   "file_extension": ".py",
   "mimetype": "text/x-python",
   "name": "python",
   "nbconvert_exporter": "python",
   "pygments_lexer": "ipython3",
   "version": "3.9.18"
  }
 },
 "nbformat": 4,
 "nbformat_minor": 2
}
