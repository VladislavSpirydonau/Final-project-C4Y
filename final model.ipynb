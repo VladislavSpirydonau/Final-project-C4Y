{
 "cells": [
  {
   "cell_type": "code",
   "execution_count": 1,
   "metadata": {},
   "outputs": [],
   "source": [
    "import sqlite3\n",
    "import pandas as pd\n",
    "from src import paths,sql_querys,converting\n",
    "import joblib\n",
    "from sklearn.pipeline import Pipeline\n",
    "from sklearn.compose import ColumnTransformer\n",
    "from sklearn.impute import SimpleImputer\n",
    "from sklearn.ensemble import RandomForestClassifier\n",
    "from sklearn.metrics import classification_report, accuracy_score, recall_score\n",
    "from sklearn.preprocessing import StandardScaler, OrdinalEncoder, LabelEncoder\n",
    "from sklearn.model_selection import train_test_split\n"
   ]
  },
  {
   "cell_type": "code",
   "execution_count": 2,
   "metadata": {},
   "outputs": [],
   "source": [
    "conn = sqlite3.connect(paths.db_path)\n",
    "cursor = conn.cursor()\n",
    "query = sql_querys.query_training_model\n",
    "df = pd.read_sql_query(query, conn)\n",
    "df = df.loc[:,~df.columns.duplicated()]\n",
    "df.max_balance = pd.to_numeric(df.max_balance)\n",
    "df.age=pd.to_numeric(df.age)"
   ]
  },
  {
   "cell_type": "code",
   "execution_count": 3,
   "metadata": {},
   "outputs": [],
   "source": [
    "rate = {'CZK': 1, 'USD': 23, 'EUR': 25}\n",
    "df = converting.converter(df, rate)\n"
   ]
  },
  {
   "cell_type": "code",
   "execution_count": 4,
   "metadata": {},
   "outputs": [],
   "source": [
    "\n",
    "age_pipeline = joblib.load(paths.age_pipeline_path)\n",
    "missing_age_indices = df['age'].isnull()\n",
    "predicted_ages = age_pipeline.predict(df[missing_age_indices])\n",
    "\n",
    "# Step 2: Replace missing values with predicted values\n",
    "df.loc[missing_age_indices, 'age'] = predicted_ages"
   ]
  },
  {
   "cell_type": "code",
   "execution_count": 5,
   "metadata": {},
   "outputs": [],
   "source": [
    "query1 = (sql_querys.query_square_sum)\n",
    "dif_bal = pd.read_sql_query(query1, conn)\n",
    "dif_bal = dif_bal.loc[:,~dif_bal.columns.duplicated()]\n",
    "\n",
    "dif_bal = converting.converter(dif_bal, rate)\n",
    "\n",
    "dif_bal['balance_diff'] = dif_bal.groupby('client_id')['balance'].diff().fillna(0)\n",
    "dif_bal['balance_diff_square_sum'] = dif_bal.groupby('client_id')['balance_diff'].transform(lambda x: (x ** 2).sum())\n",
    "dif_bal.drop(columns=['date', 'balance', 'balance_diff', 'poutcome', 'currency'], inplace=True)\n",
    "df = df.merge(dif_bal.drop_duplicates(subset=['client_id']), on='client_id', how='left')\n"
   ]
  },
  {
   "cell_type": "code",
   "execution_count": 6,
   "metadata": {},
   "outputs": [],
   "source": [
    "y = df.poutcome\n",
    "X = df.drop(columns = 'poutcome')\n",
    "enc = LabelEncoder()\n",
    "y=enc.fit_transform(y)\n",
    "X_train, X_test, y_train, y_test = train_test_split(X, y, test_size=0.2, random_state=42)"
   ]
  },
  {
   "cell_type": "code",
   "execution_count": 7,
   "metadata": {},
   "outputs": [],
   "source": [
    "num_features = ['age', 'balance_diff_square_sum', 'max_balance']\n",
    "labeled_features = ['has_deposits', 'loan', 'has_mortgage','education' ]\n",
    "\n",
    "# Create transformers for the numerical and categorical features\n",
    "numeric_transformer = Pipeline(steps=[\n",
    "    ('imputer', SimpleImputer(strategy='median')),\n",
    "    ('scaler', StandardScaler())])\n",
    "\n",
    "labeled_transformer = Pipeline(steps=[\n",
    "    ('imputer', SimpleImputer(strategy='constant', fill_value='no')),\n",
    "    ('label', OrdinalEncoder())])\n",
    "\n",
    "# Create a column transformer to apply the transformations to the respective columns\n",
    "preprocessor = ColumnTransformer(\n",
    "    transformers=[\n",
    "        ('num', numeric_transformer, num_features),\n",
    "        ('label', labeled_transformer, labeled_features)\n",
    "            ])\n",
    "\n",
    "# Full pipeline\n",
    "pipeline = Pipeline(steps=[\n",
    "    ('preprocessor', preprocessor),\n",
    "    ('classifier', RandomForestClassifier(random_state=42, n_estimators= 150, min_samples_split= 10, min_samples_leaf= 2, max_features= 'sqrt', max_depth= 10, criterion= 'entropy', bootstrap= False))])"
   ]
  },
  {
   "cell_type": "code",
   "execution_count": 8,
   "metadata": {},
   "outputs": [
    {
     "name": "stdout",
     "output_type": "stream",
     "text": [
      "Accuracy: 72.17% Recall: 76.26%\n"
     ]
    }
   ],
   "source": [
    "pipeline.fit(X_train, y_train)\n",
    "y_pred = pipeline.predict(X_test)\n",
    "accuracy = accuracy_score(y_test, y_pred)\n",
    "recall = recall_score(y_test, y_pred)\n",
    "print(\"Accuracy: {:.2f}%\".format(accuracy * 100), \"Recall: {:.2f}%\".format(recall * 100))"
   ]
  }
 ],
 "metadata": {
  "kernelspec": {
   "display_name": "tf-gpu",
   "language": "python",
   "name": "python3"
  },
  "language_info": {
   "codemirror_mode": {
    "name": "ipython",
    "version": 3
   },
   "file_extension": ".py",
   "mimetype": "text/x-python",
   "name": "python",
   "nbconvert_exporter": "python",
   "pygments_lexer": "ipython3",
   "version": "3.9.18"
  }
 },
 "nbformat": 4,
 "nbformat_minor": 2
}
