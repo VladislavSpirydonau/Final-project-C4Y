{
 "cells": [
  {
   "cell_type": "code",
   "execution_count": 24,
   "metadata": {},
   "outputs": [],
   "source": [
    "# Import necessary libraries\n",
    "import sqlite3\n",
    "import pandas as pd\n",
    "\n",
    "\n",
    "# Connect to a SQLite database (or create one)\n",
    "conn = sqlite3.connect(r'C:\\Users\\spiri\\codingbootcamp\\Final-project-C4Y\\data.db')\n",
    "cursor = conn.cursor()"
   ]
  },
  {
   "cell_type": "markdown",
   "metadata": {},
   "source": [
    "WITH mean_deposite as (\n",
    "    select client_id, AVG(balance), currency\n",
    "    from balances\n",
    "    group by 1\n",
    ")\n",
    "Select * \n",
    "from inv_campaign_eval\n",
    "left join client\n",
    "on inv_campaign_eval.client_id = client.client_id\n",
    "left join client_products\n",
    "on inv_campaign_eval.client_id = client_products.client_id\n",
    "left join mean_deposite\n",
    "on inv_campaign_eval.client_id = mean_deposite.client_id"
   ]
  },
  {
   "cell_type": "code",
   "execution_count": 25,
   "metadata": {},
   "outputs": [
    {
     "data": {
      "text/html": [
       "<div>\n",
       "<style scoped>\n",
       "    .dataframe tbody tr th:only-of-type {\n",
       "        vertical-align: middle;\n",
       "    }\n",
       "\n",
       "    .dataframe tbody tr th {\n",
       "        vertical-align: top;\n",
       "    }\n",
       "\n",
       "    .dataframe thead th {\n",
       "        text-align: right;\n",
       "    }\n",
       "</style>\n",
       "<table border=\"1\" class=\"dataframe\">\n",
       "  <thead>\n",
       "    <tr style=\"text-align: right;\">\n",
       "      <th></th>\n",
       "      <th>client_id</th>\n",
       "      <th>poutcome</th>\n",
       "      <th>client_id</th>\n",
       "      <th>age</th>\n",
       "      <th>job</th>\n",
       "      <th>marital</th>\n",
       "      <th>education</th>\n",
       "      <th>gender</th>\n",
       "      <th>client_id</th>\n",
       "      <th>has_deposits</th>\n",
       "      <th>loan</th>\n",
       "      <th>has_insurance</th>\n",
       "      <th>has_mortgage</th>\n",
       "      <th>client_id</th>\n",
       "      <th>mean_balance</th>\n",
       "      <th>currency</th>\n",
       "    </tr>\n",
       "  </thead>\n",
       "  <tbody>\n",
       "    <tr>\n",
       "      <th>0</th>\n",
       "      <td>249789938</td>\n",
       "      <td>success</td>\n",
       "      <td>249789938</td>\n",
       "      <td>38.0</td>\n",
       "      <td>services</td>\n",
       "      <td>married</td>\n",
       "      <td>secondary</td>\n",
       "      <td>M</td>\n",
       "      <td>249789938</td>\n",
       "      <td>yes</td>\n",
       "      <td>no</td>\n",
       "      <td>n</td>\n",
       "      <td>no</td>\n",
       "      <td>249789938</td>\n",
       "      <td>2669.532734</td>\n",
       "      <td>CZK</td>\n",
       "    </tr>\n",
       "    <tr>\n",
       "      <th>1</th>\n",
       "      <td>1504633819</td>\n",
       "      <td>failure</td>\n",
       "      <td>1504633819</td>\n",
       "      <td>38.0</td>\n",
       "      <td>management</td>\n",
       "      <td>married</td>\n",
       "      <td>tertiary</td>\n",
       "      <td>M</td>\n",
       "      <td>1504633819</td>\n",
       "      <td>no</td>\n",
       "      <td>yes</td>\n",
       "      <td>n</td>\n",
       "      <td>yes</td>\n",
       "      <td>1504633819</td>\n",
       "      <td>5440.862334</td>\n",
       "      <td>CZK</td>\n",
       "    </tr>\n",
       "    <tr>\n",
       "      <th>2</th>\n",
       "      <td>1952195738</td>\n",
       "      <td>success</td>\n",
       "      <td>1952195738</td>\n",
       "      <td>34.0</td>\n",
       "      <td>services</td>\n",
       "      <td>married</td>\n",
       "      <td>secondary</td>\n",
       "      <td>M</td>\n",
       "      <td>1952195738</td>\n",
       "      <td>yes</td>\n",
       "      <td>yes</td>\n",
       "      <td>n</td>\n",
       "      <td>no</td>\n",
       "      <td>1952195738</td>\n",
       "      <td>2922.958852</td>\n",
       "      <td>CZK</td>\n",
       "    </tr>\n",
       "    <tr>\n",
       "      <th>3</th>\n",
       "      <td>989726384</td>\n",
       "      <td>success</td>\n",
       "      <td>989726384</td>\n",
       "      <td>62.0</td>\n",
       "      <td>retired</td>\n",
       "      <td>married</td>\n",
       "      <td>secondary</td>\n",
       "      <td>F</td>\n",
       "      <td>989726384</td>\n",
       "      <td>yes</td>\n",
       "      <td>no</td>\n",
       "      <td>n</td>\n",
       "      <td>no</td>\n",
       "      <td>989726384</td>\n",
       "      <td>3124.614843</td>\n",
       "      <td>CZK</td>\n",
       "    </tr>\n",
       "    <tr>\n",
       "      <th>4</th>\n",
       "      <td>1971878545</td>\n",
       "      <td>failure</td>\n",
       "      <td>1971878545</td>\n",
       "      <td>36.0</td>\n",
       "      <td>management</td>\n",
       "      <td>single</td>\n",
       "      <td>tertiary</td>\n",
       "      <td>M</td>\n",
       "      <td>1971878545</td>\n",
       "      <td>yes</td>\n",
       "      <td>no</td>\n",
       "      <td>n</td>\n",
       "      <td>no</td>\n",
       "      <td>1971878545</td>\n",
       "      <td>474.083033</td>\n",
       "      <td>CZK</td>\n",
       "    </tr>\n",
       "  </tbody>\n",
       "</table>\n",
       "</div>"
      ],
      "text/plain": [
       "    client_id poutcome   client_id   age         job  marital  education  \\\n",
       "0   249789938  success   249789938  38.0    services  married  secondary   \n",
       "1  1504633819  failure  1504633819  38.0  management  married   tertiary   \n",
       "2  1952195738  success  1952195738  34.0    services  married  secondary   \n",
       "3   989726384  success   989726384  62.0     retired  married  secondary   \n",
       "4  1971878545  failure  1971878545  36.0  management   single   tertiary   \n",
       "\n",
       "  gender   client_id has_deposits loan has_insurance has_mortgage   client_id  \\\n",
       "0      M   249789938          yes   no             n           no   249789938   \n",
       "1      M  1504633819           no  yes             n          yes  1504633819   \n",
       "2      M  1952195738          yes  yes             n           no  1952195738   \n",
       "3      F   989726384          yes   no             n           no   989726384   \n",
       "4      M  1971878545          yes   no             n           no  1971878545   \n",
       "\n",
       "   mean_balance currency  \n",
       "0   2669.532734      CZK  \n",
       "1   5440.862334      CZK  \n",
       "2   2922.958852      CZK  \n",
       "3   3124.614843      CZK  \n",
       "4    474.083033      CZK  "
      ]
     },
     "execution_count": 25,
     "metadata": {},
     "output_type": "execute_result"
    }
   ],
   "source": [
    "query = ('''\n",
    "WITH mean_deposite as (\n",
    "    select client_id, AVG(balance) as mean_balance, currency\n",
    "    from balances\n",
    "    group by 1\n",
    ")\n",
    "Select * \n",
    "from inv_campaign_eval\n",
    "left join client\n",
    "on inv_campaign_eval.client_id = client.client_id\n",
    "left join client_products\n",
    "on inv_campaign_eval.client_id = client_products.client_id\n",
    "left join mean_deposite\n",
    "on inv_campaign_eval.client_id = mean_deposite.client_id''')\n",
    "df = pd.read_sql_query(query, conn)\n",
    "\n",
    "df.head()"
   ]
  },
  {
   "cell_type": "code",
   "execution_count": 29,
   "metadata": {},
   "outputs": [
    {
     "name": "stdout",
     "output_type": "stream",
     "text": [
      "Index(['client_id', 'poutcome', 'age', 'job', 'marital', 'education', 'gender',\n",
      "       'has_deposits', 'loan', 'has_insurance', 'has_mortgage', 'mean_balance',\n",
      "       'currency'],\n",
      "      dtype='object')\n",
      "client_id        object\n",
      "poutcome         object\n",
      "age              object\n",
      "job              object\n",
      "marital          object\n",
      "education        object\n",
      "gender           object\n",
      "has_deposits     object\n",
      "loan             object\n",
      "has_insurance    object\n",
      "has_mortgage     object\n",
      "mean_balance     object\n",
      "currency         object\n",
      "dtype: object\n"
     ]
    }
   ],
   "source": [
    "print(df.columns)\n",
    "print(df.dtypes)\n"
   ]
  },
  {
   "cell_type": "markdown",
   "metadata": {},
   "source": [
    "Here we drop duplicate columns"
   ]
  },
  {
   "cell_type": "code",
   "execution_count": 27,
   "metadata": {},
   "outputs": [],
   "source": [
    "df = df.T.drop_duplicates().T"
   ]
  },
  {
   "cell_type": "code",
   "execution_count": 28,
   "metadata": {},
   "outputs": [
    {
     "data": {
      "text/html": [
       "<div>\n",
       "<style scoped>\n",
       "    .dataframe tbody tr th:only-of-type {\n",
       "        vertical-align: middle;\n",
       "    }\n",
       "\n",
       "    .dataframe tbody tr th {\n",
       "        vertical-align: top;\n",
       "    }\n",
       "\n",
       "    .dataframe thead th {\n",
       "        text-align: right;\n",
       "    }\n",
       "</style>\n",
       "<table border=\"1\" class=\"dataframe\">\n",
       "  <thead>\n",
       "    <tr style=\"text-align: right;\">\n",
       "      <th></th>\n",
       "      <th>client_id</th>\n",
       "      <th>poutcome</th>\n",
       "      <th>age</th>\n",
       "      <th>job</th>\n",
       "      <th>marital</th>\n",
       "      <th>education</th>\n",
       "      <th>gender</th>\n",
       "      <th>has_deposits</th>\n",
       "      <th>loan</th>\n",
       "      <th>has_insurance</th>\n",
       "      <th>has_mortgage</th>\n",
       "      <th>mean_balance</th>\n",
       "      <th>currency</th>\n",
       "    </tr>\n",
       "  </thead>\n",
       "  <tbody>\n",
       "    <tr>\n",
       "      <th>0</th>\n",
       "      <td>249789938</td>\n",
       "      <td>success</td>\n",
       "      <td>38.0</td>\n",
       "      <td>services</td>\n",
       "      <td>married</td>\n",
       "      <td>secondary</td>\n",
       "      <td>M</td>\n",
       "      <td>yes</td>\n",
       "      <td>no</td>\n",
       "      <td>n</td>\n",
       "      <td>no</td>\n",
       "      <td>2669.532734</td>\n",
       "      <td>CZK</td>\n",
       "    </tr>\n",
       "    <tr>\n",
       "      <th>1</th>\n",
       "      <td>1504633819</td>\n",
       "      <td>failure</td>\n",
       "      <td>38.0</td>\n",
       "      <td>management</td>\n",
       "      <td>married</td>\n",
       "      <td>tertiary</td>\n",
       "      <td>M</td>\n",
       "      <td>no</td>\n",
       "      <td>yes</td>\n",
       "      <td>n</td>\n",
       "      <td>yes</td>\n",
       "      <td>5440.862334</td>\n",
       "      <td>CZK</td>\n",
       "    </tr>\n",
       "    <tr>\n",
       "      <th>2</th>\n",
       "      <td>1952195738</td>\n",
       "      <td>success</td>\n",
       "      <td>34.0</td>\n",
       "      <td>services</td>\n",
       "      <td>married</td>\n",
       "      <td>secondary</td>\n",
       "      <td>M</td>\n",
       "      <td>yes</td>\n",
       "      <td>yes</td>\n",
       "      <td>n</td>\n",
       "      <td>no</td>\n",
       "      <td>2922.958852</td>\n",
       "      <td>CZK</td>\n",
       "    </tr>\n",
       "    <tr>\n",
       "      <th>3</th>\n",
       "      <td>989726384</td>\n",
       "      <td>success</td>\n",
       "      <td>62.0</td>\n",
       "      <td>retired</td>\n",
       "      <td>married</td>\n",
       "      <td>secondary</td>\n",
       "      <td>F</td>\n",
       "      <td>yes</td>\n",
       "      <td>no</td>\n",
       "      <td>n</td>\n",
       "      <td>no</td>\n",
       "      <td>3124.614843</td>\n",
       "      <td>CZK</td>\n",
       "    </tr>\n",
       "    <tr>\n",
       "      <th>4</th>\n",
       "      <td>1971878545</td>\n",
       "      <td>failure</td>\n",
       "      <td>36.0</td>\n",
       "      <td>management</td>\n",
       "      <td>single</td>\n",
       "      <td>tertiary</td>\n",
       "      <td>M</td>\n",
       "      <td>yes</td>\n",
       "      <td>no</td>\n",
       "      <td>n</td>\n",
       "      <td>no</td>\n",
       "      <td>474.083033</td>\n",
       "      <td>CZK</td>\n",
       "    </tr>\n",
       "  </tbody>\n",
       "</table>\n",
       "</div>"
      ],
      "text/plain": [
       "    client_id poutcome   age         job  marital  education gender  \\\n",
       "0   249789938  success  38.0    services  married  secondary      M   \n",
       "1  1504633819  failure  38.0  management  married   tertiary      M   \n",
       "2  1952195738  success  34.0    services  married  secondary      M   \n",
       "3   989726384  success  62.0     retired  married  secondary      F   \n",
       "4  1971878545  failure  36.0  management   single   tertiary      M   \n",
       "\n",
       "  has_deposits loan has_insurance has_mortgage mean_balance currency  \n",
       "0          yes   no             n           no  2669.532734      CZK  \n",
       "1           no  yes             n          yes  5440.862334      CZK  \n",
       "2          yes  yes             n           no  2922.958852      CZK  \n",
       "3          yes   no             n           no  3124.614843      CZK  \n",
       "4          yes   no             n           no   474.083033      CZK  "
      ]
     },
     "execution_count": 28,
     "metadata": {},
     "output_type": "execute_result"
    }
   ],
   "source": [
    "df.head()"
   ]
  },
  {
   "cell_type": "markdown",
   "metadata": {},
   "source": [
    "checking and dealing with the missing value"
   ]
  },
  {
   "cell_type": "code",
   "execution_count": 30,
   "metadata": {},
   "outputs": [
    {
     "data": {
      "text/plain": [
       "client_id         0\n",
       "poutcome          0\n",
       "age              50\n",
       "job              83\n",
       "marital           0\n",
       "education         0\n",
       "gender            0\n",
       "has_deposits      0\n",
       "loan              0\n",
       "has_insurance     0\n",
       "has_mortgage      0\n",
       "mean_balance      0\n",
       "currency          0\n",
       "dtype: int64"
      ]
     },
     "execution_count": 30,
     "metadata": {},
     "output_type": "execute_result"
    }
   ],
   "source": [
    "df.isna().sum()"
   ]
  },
  {
   "cell_type": "code",
   "execution_count": null,
   "metadata": {},
   "outputs": [],
   "source": [
    "df.job.fillna(value='unknown', inplace=True)"
   ]
  },
  {
   "cell_type": "code",
   "execution_count": null,
   "metadata": {},
   "outputs": [],
   "source": [
    "df.age.fillna(value=df.age.mean(), inplace=True)\n"
   ]
  },
  {
   "cell_type": "markdown",
   "metadata": {},
   "source": [
    "So we fill the missing values, no we can focus on the data types"
   ]
  },
  {
   "cell_type": "code",
   "execution_count": 53,
   "metadata": {},
   "outputs": [
    {
     "name": "stdout",
     "output_type": "stream",
     "text": [
      "client_id          int32\n",
      "poutcome          object\n",
      "age              float64\n",
      "job               object\n",
      "marital           object\n",
      "education         object\n",
      "gender            object\n",
      "has_deposits      object\n",
      "loan              object\n",
      "has_insurance     object\n",
      "has_mortgage      object\n",
      "mean_balance     float64\n",
      "currency          object\n",
      "dtype: object\n"
     ]
    }
   ],
   "source": [
    "print(df.dtypes)"
   ]
  },
  {
   "cell_type": "code",
   "execution_count": 50,
   "metadata": {},
   "outputs": [],
   "source": [
    "df.mean_balance = pd.to_numeric(df.mean_balance)"
   ]
  },
  {
   "cell_type": "code",
   "execution_count": 52,
   "metadata": {},
   "outputs": [],
   "source": [
    "df.client_id = pd.to_numeric(df.client_id)"
   ]
  },
  {
   "cell_type": "markdown",
   "metadata": {},
   "source": [
    "next part I want to focus on converting currency everyrhing to czk\n"
   ]
  },
  {
   "cell_type": "code",
   "execution_count": 54,
   "metadata": {},
   "outputs": [],
   "source": [
    "rate = {'CZK': 1, 'USD': 23, 'EUR': 25}\n",
    "\n",
    "df['mean_balance'] = df.apply(lambda row: row['mean_balance'] * rate[row['currency']], axis=1)"
   ]
  },
  {
   "cell_type": "code",
   "execution_count": null,
   "metadata": {},
   "outputs": [],
   "source": []
  }
 ],
 "metadata": {
  "kernelspec": {
   "display_name": "tf-gpu",
   "language": "python",
   "name": "python3"
  },
  "language_info": {
   "codemirror_mode": {
    "name": "ipython",
    "version": 3
   },
   "file_extension": ".py",
   "mimetype": "text/x-python",
   "name": "python",
   "nbconvert_exporter": "python",
   "pygments_lexer": "ipython3",
   "version": "3.9.18"
  }
 },
 "nbformat": 4,
 "nbformat_minor": 2
}
