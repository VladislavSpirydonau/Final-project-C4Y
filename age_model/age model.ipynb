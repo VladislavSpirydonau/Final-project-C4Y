{
 "cells": [
  {
   "cell_type": "code",
   "execution_count": 1,
   "metadata": {},
   "outputs": [],
   "source": [
    "from sklearn.metrics import classification_report, accuracy_score, roc_curve, auc, recall_score\n",
    "from sklearn.model_selection import train_test_split\n",
    "from sklearn.preprocessing import StandardScaler, OneHotEncoder, OrdinalEncoder\n",
    "import sqlite3\n",
    "import pandas as pd\n",
    "from sklearn.impute import SimpleImputer\n",
    "from sklearn.pipeline import Pipeline\n",
    "from sklearn.compose import ColumnTransformer\n",
    "from sklearn.ensemble import GradientBoostingRegressor\n",
    "from src import paths, sql_querys, converting\n",
    "from sklearn.metrics import mean_absolute_error\n",
    "import joblib"
   ]
  },
  {
   "cell_type": "code",
   "execution_count": 2,
   "metadata": {},
   "outputs": [
    {
     "data": {
      "text/html": [
       "<div>\n",
       "<style scoped>\n",
       "    .dataframe tbody tr th:only-of-type {\n",
       "        vertical-align: middle;\n",
       "    }\n",
       "\n",
       "    .dataframe tbody tr th {\n",
       "        vertical-align: top;\n",
       "    }\n",
       "\n",
       "    .dataframe thead th {\n",
       "        text-align: right;\n",
       "    }\n",
       "</style>\n",
       "<table border=\"1\" class=\"dataframe\">\n",
       "  <thead>\n",
       "    <tr style=\"text-align: right;\">\n",
       "      <th></th>\n",
       "      <th>client_id</th>\n",
       "      <th>age</th>\n",
       "      <th>job</th>\n",
       "      <th>marital</th>\n",
       "      <th>education</th>\n",
       "      <th>gender</th>\n",
       "      <th>client_id</th>\n",
       "      <th>has_deposits</th>\n",
       "      <th>loan</th>\n",
       "      <th>has_insurance</th>\n",
       "      <th>has_mortgage</th>\n",
       "      <th>client_id</th>\n",
       "      <th>mean_balance</th>\n",
       "      <th>max_balance</th>\n",
       "      <th>min_balance</th>\n",
       "      <th>dif_balance</th>\n",
       "      <th>currency</th>\n",
       "    </tr>\n",
       "  </thead>\n",
       "  <tbody>\n",
       "    <tr>\n",
       "      <th>0</th>\n",
       "      <td>249789938</td>\n",
       "      <td>38.0</td>\n",
       "      <td>services</td>\n",
       "      <td>married</td>\n",
       "      <td>secondary</td>\n",
       "      <td>M</td>\n",
       "      <td>249789938</td>\n",
       "      <td>yes</td>\n",
       "      <td>no</td>\n",
       "      <td>n</td>\n",
       "      <td>no</td>\n",
       "      <td>249789938</td>\n",
       "      <td>2669.532734</td>\n",
       "      <td>2775.615374</td>\n",
       "      <td>2515.500059</td>\n",
       "      <td>260.115315</td>\n",
       "      <td>CZK</td>\n",
       "    </tr>\n",
       "    <tr>\n",
       "      <th>1</th>\n",
       "      <td>1222646323</td>\n",
       "      <td>46.0</td>\n",
       "      <td>services</td>\n",
       "      <td>divorced</td>\n",
       "      <td>unknown</td>\n",
       "      <td>M</td>\n",
       "      <td>1222646323</td>\n",
       "      <td>no</td>\n",
       "      <td>no</td>\n",
       "      <td>n</td>\n",
       "      <td>no</td>\n",
       "      <td>1222646323</td>\n",
       "      <td>960.562073</td>\n",
       "      <td>1054.517907</td>\n",
       "      <td>886.126906</td>\n",
       "      <td>168.391001</td>\n",
       "      <td>CZK</td>\n",
       "    </tr>\n",
       "    <tr>\n",
       "      <th>2</th>\n",
       "      <td>451375919</td>\n",
       "      <td>33.0</td>\n",
       "      <td>admin.</td>\n",
       "      <td>single</td>\n",
       "      <td>secondary</td>\n",
       "      <td>F</td>\n",
       "      <td>451375919</td>\n",
       "      <td>no</td>\n",
       "      <td>no</td>\n",
       "      <td>n</td>\n",
       "      <td>yes</td>\n",
       "      <td>451375919</td>\n",
       "      <td>1221.016419</td>\n",
       "      <td>1303.494818</td>\n",
       "      <td>1100.917203</td>\n",
       "      <td>202.577615</td>\n",
       "      <td>CZK</td>\n",
       "    </tr>\n",
       "    <tr>\n",
       "      <th>3</th>\n",
       "      <td>338972671</td>\n",
       "      <td>44.0</td>\n",
       "      <td>self-employed</td>\n",
       "      <td>married</td>\n",
       "      <td>secondary</td>\n",
       "      <td>F</td>\n",
       "      <td>338972671</td>\n",
       "      <td>no</td>\n",
       "      <td>no</td>\n",
       "      <td>y</td>\n",
       "      <td>yes</td>\n",
       "      <td>338972671</td>\n",
       "      <td>297.993265</td>\n",
       "      <td>446.676191</td>\n",
       "      <td>202.053088</td>\n",
       "      <td>244.623103</td>\n",
       "      <td>CZK</td>\n",
       "    </tr>\n",
       "    <tr>\n",
       "      <th>4</th>\n",
       "      <td>1472834688</td>\n",
       "      <td>36.0</td>\n",
       "      <td>blue-collar</td>\n",
       "      <td>married</td>\n",
       "      <td>primary</td>\n",
       "      <td>M</td>\n",
       "      <td>1472834688</td>\n",
       "      <td>yes</td>\n",
       "      <td>no</td>\n",
       "      <td>n</td>\n",
       "      <td>yes</td>\n",
       "      <td>1472834688</td>\n",
       "      <td>1919.318145</td>\n",
       "      <td>2011.939205</td>\n",
       "      <td>1853.387429</td>\n",
       "      <td>158.551776</td>\n",
       "      <td>CZK</td>\n",
       "    </tr>\n",
       "  </tbody>\n",
       "</table>\n",
       "</div>"
      ],
      "text/plain": [
       "    client_id   age            job   marital  education gender   client_id  \\\n",
       "0   249789938  38.0       services   married  secondary      M   249789938   \n",
       "1  1222646323  46.0       services  divorced    unknown      M  1222646323   \n",
       "2   451375919  33.0         admin.    single  secondary      F   451375919   \n",
       "3   338972671  44.0  self-employed   married  secondary      F   338972671   \n",
       "4  1472834688  36.0    blue-collar   married    primary      M  1472834688   \n",
       "\n",
       "  has_deposits loan has_insurance has_mortgage   client_id  mean_balance  \\\n",
       "0          yes   no             n           no   249789938   2669.532734   \n",
       "1           no   no             n           no  1222646323    960.562073   \n",
       "2           no   no             n          yes   451375919   1221.016419   \n",
       "3           no   no             y          yes   338972671    297.993265   \n",
       "4          yes   no             n          yes  1472834688   1919.318145   \n",
       "\n",
       "   max_balance  min_balance  dif_balance currency  \n",
       "0  2775.615374  2515.500059   260.115315      CZK  \n",
       "1  1054.517907   886.126906   168.391001      CZK  \n",
       "2  1303.494818  1100.917203   202.577615      CZK  \n",
       "3   446.676191   202.053088   244.623103      CZK  \n",
       "4  2011.939205  1853.387429   158.551776      CZK  "
      ]
     },
     "execution_count": 2,
     "metadata": {},
     "output_type": "execute_result"
    }
   ],
   "source": [
    "conn = sqlite3.connect(paths.db_path)\n",
    "cursor = conn.cursor()\n",
    "query = sql_querys.query_age_model\n",
    "df = pd.read_sql_query(query, conn)\n",
    "df.head()"
   ]
  },
  {
   "cell_type": "code",
   "execution_count": 3,
   "metadata": {},
   "outputs": [],
   "source": [
    "df = df.T.drop_duplicates().T\n",
    "df.mean_balance = pd.to_numeric(df.mean_balance)\n",
    "df.max_balance = pd.to_numeric(df.max_balance)\n",
    "df.min_balance = pd.to_numeric(df.min_balance)"
   ]
  },
  {
   "cell_type": "code",
   "execution_count": 4,
   "metadata": {},
   "outputs": [],
   "source": [
    "rate = {'CZK': 1, 'USD': 23, 'EUR': 25}\n",
    "df = converting.converter(df,rate)"
   ]
  },
  {
   "cell_type": "code",
   "execution_count": 5,
   "metadata": {},
   "outputs": [],
   "source": [
    "df1 = df.drop(columns='client_id')\n",
    "df1.dropna(subset=['age'], inplace=True, how='any', axis=0)\n",
    "y = df1.age\n",
    "X = df1.drop(columns = 'age')\n",
    "X_train, X_test, y_train, y_test = train_test_split(X, y, test_size=0.2, random_state=42)"
   ]
  },
  {
   "cell_type": "markdown",
   "metadata": {},
   "source": [
    "\n",
    "Here we present a pipeline for modeling age, specifically designed to handle missing values within the dataset's age column."
   ]
  },
  {
   "cell_type": "code",
   "execution_count": 24,
   "metadata": {},
   "outputs": [],
   "source": [
    "\n",
    "num_features = ['max_balance']\n",
    "cat_features = ['job']\n",
    "labeled_features = ['marital', 'education', 'gender', 'has_deposits', 'loan', 'has_insurance', 'has_mortgage']\n",
    "\n",
    "\n",
    "# Create transformers for the numerical and categorical features\n",
    "numeric_transformer = Pipeline(steps=[\n",
    "    ('imputer', SimpleImputer(strategy='median')),\n",
    "    ('scaler', StandardScaler())])\n",
    "\n",
    "categorical_transformer = Pipeline(steps=[\n",
    "    ('imputer', SimpleImputer(strategy='constant', fill_value='unknown')),\n",
    "    ('onehot', OneHotEncoder(handle_unknown='ignore'))])\n",
    "\n",
    "labeled_transformer = Pipeline(steps=[\n",
    "    ('imputer', SimpleImputer(strategy='constant', fill_value='no')),\n",
    "    ('label', OrdinalEncoder())])\n",
    "\n",
    "\n",
    "# Create a column transformer to apply the transformations to the respective columns\n",
    "preprocessor = ColumnTransformer(\n",
    "    transformers=[\n",
    "        ('num', numeric_transformer, num_features),\n",
    "        ('cat', categorical_transformer, cat_features),\n",
    "        ('label', labeled_transformer, labeled_features)\n",
    "            ])\n",
    "\n",
    "# Full pipeline\n",
    "pipeline = Pipeline(steps=[\n",
    "    ('preprocessor', preprocessor),\n",
    "    ('classifier', GradientBoostingRegressor(learning_rate=0.05, loss='huber', max_depth=8, \n",
    "                max_features='sqrt', min_samples_leaf=10, min_samples_split=10, n_estimators=129))])"
   ]
  },
  {
   "cell_type": "code",
   "execution_count": 25,
   "metadata": {},
   "outputs": [
    {
     "name": "stdout",
     "output_type": "stream",
     "text": [
      "Mean Absolute Error (MAE): 6.566775882894331\n"
     ]
    }
   ],
   "source": [
    "pipeline.fit(X_train, y_train)\n",
    "\n",
    "y_pred = pipeline.predict(X_test)\n",
    "mae = mean_absolute_error(y_test, y_pred)\n",
    "\n",
    "# Print the MAE\n",
    "print(\"Mean Absolute Error (MAE):\", mae)"
   ]
  },
  {
   "cell_type": "code",
   "execution_count": 23,
   "metadata": {},
   "outputs": [
    {
     "name": "stdout",
     "output_type": "stream",
     "text": [
      "Mean Absolute Error (MAE): 6.567035702399732\n"
     ]
    }
   ],
   "source": [
    "joblib.dump(pipeline, 'age_pipeline.pkl')"
   ]
  }
 ],
 "metadata": {
  "kernelspec": {
   "display_name": "tf-gpu",
   "language": "python",
   "name": "python3"
  },
  "language_info": {
   "codemirror_mode": {
    "name": "ipython",
    "version": 3
   },
   "file_extension": ".py",
   "mimetype": "text/x-python",
   "name": "python",
   "nbconvert_exporter": "python",
   "pygments_lexer": "ipython3",
   "version": "3.9.18"
  }
 },
 "nbformat": 4,
 "nbformat_minor": 2
}
