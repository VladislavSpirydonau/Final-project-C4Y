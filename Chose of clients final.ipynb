{
 "cells": [
  {
   "cell_type": "code",
   "execution_count": 1,
   "metadata": {},
   "outputs": [],
   "source": [
    "import sqlite3\n",
    "import pandas as pd\n",
    "import joblib\n",
    "from src import paths, sql_querys,converting, square_sum\n"
   ]
  },
  {
   "cell_type": "code",
   "execution_count": 2,
   "metadata": {},
   "outputs": [],
   "source": [
    "conn = sqlite3.connect(paths.db_path)\n",
    "cursor = conn.cursor()\n",
    "query = (sql_querys.query_evaluation)\n",
    "df = pd.read_sql_query(query, conn)\n",
    "df = converting.converter(df)"
   ]
  },
  {
   "cell_type": "code",
   "execution_count": 3,
   "metadata": {},
   "outputs": [],
   "source": [
    "age_pipeline = joblib.load(paths.age_pipeline_path)\n",
    "missing_age_indices = df['age'].isnull()\n",
    "predicted_ages = age_pipeline.predict(df[missing_age_indices])\n",
    "df.loc[missing_age_indices, 'age'] = predicted_ages"
   ]
  },
  {
   "cell_type": "code",
   "execution_count": 4,
   "metadata": {},
   "outputs": [],
   "source": [
    "query1 = (sql_querys.query_square_sum_ev)\n",
    "df = square_sum.square_sum(df,query1,conn)\n"
   ]
  },
  {
   "cell_type": "code",
   "execution_count": 19,
   "metadata": {},
   "outputs": [],
   "source": [
    "pipeline = joblib.load(paths.final_pipeline_path)\n",
    "\n",
    "def prediction(df):\n",
    "    predictions = pipeline.predict(X)  # Call predict method of the pipeline\n",
    "    result = pd.DataFrame({'client_id': X['client_id'], 'outcome': predictions})\n",
    "    res_suc = result[result['outcome'] == 1]\n",
    "    res_unsuc = result[result['outcome'] == 0]\n",
    "    return res_suc, res_unsuc"
   ]
  },
  {
   "cell_type": "code",
   "execution_count": 20,
   "metadata": {},
   "outputs": [],
   "source": [
    "res_suc, res_unsuc = prediction(df)\n"
   ]
  }
 ],
 "metadata": {
  "kernelspec": {
   "display_name": "tf-gpu",
   "language": "python",
   "name": "python3"
  },
  "language_info": {
   "codemirror_mode": {
    "name": "ipython",
    "version": 3
   },
   "file_extension": ".py",
   "mimetype": "text/x-python",
   "name": "python",
   "nbconvert_exporter": "python",
   "pygments_lexer": "ipython3",
   "version": "3.9.18"
  }
 },
 "nbformat": 4,
 "nbformat_minor": 2
}
